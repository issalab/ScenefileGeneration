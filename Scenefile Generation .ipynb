{
 "cells": [
  {
   "cell_type": "code",
   "execution_count": 2,
   "metadata": {},
   "outputs": [],
   "source": [
    "import json\n",
    "import copy\n",
    "import numpy as np \n",
    "from ScenefileGeneration_utils import *\n",
    "import os\n",
    "import math"
   ]
  },
  {
   "cell_type": "code",
   "execution_count": 2,
   "metadata": {},
   "outputs": [],
   "source": [
    "# Important functions:\n",
    "# backbone : creates a base file which you can edit further\n",
    "# permute_obj_param : permute one type of parameter over multiple objects\n",
    "                        # add the permuted trials to the supplied scenefile\n",
    "# mergeScenefiles : merge multiple scenefiles that have the same objects/lights. duplicates are removed\n",
    "# savetoFile : save out to a json file\n",
    "\n",
    "# Useful functions:\n",
    "# use copy.deepcopy if you want to create a copy of an object and edit, while keeping the original source unchanged\n",
    "# getLongestArray returns the number of trials in a scenefile\n"
   ]
  },
  {
   "cell_type": "code",
   "execution_count": 3,
   "metadata": {},
   "outputs": [],
   "source": [
    "template_file = 'default_new.js'"
   ]
  },
  {
   "cell_type": "code",
   "execution_count": 8,
   "metadata": {},
   "outputs": [],
   "source": [
    "# default setting \n",
    "# check template_file to check light availability \n",
    "\n",
    "camType = \"PerspectiveCamera\";\n",
    "camFOV = 45;\n",
    "objnamelist = [\"bird\",\"car\",\"chair\",\"elephant\",\"glove\",\"guitar\",\"oldman\"];\n",
    "objnamelist = [\"sunglasses\",\"apple\",\"house\"];\n",
    "objnamelist = ['car','apple']\n",
    "\n",
    "# camera \n",
    "camDefaultPosition = [0,0,10]\n",
    "camDefaultTarget = [0,0,0]\n",
    "camDefaultSetting = [camDefaultPosition  +  camDefaultTarget];\n",
    "\n",
    "# light\n",
    "lightnamelist = []\n",
    "lightposlist = [[0,1,1]]\n",
    "\n",
    "# object rotation, size, position \n",
    "objrotlist = [[0,0,0]]\n",
    "objsizelist = [1]\n",
    "\n",
    "objposlist = []\n",
    "objvisiblelist = [1]\n",
    "\n",
    "# background size, index \n",
    "bkgsize = [200];\n",
    "bkgidx = [];\n",
    "\n",
    "# duration \n",
    "durationMS = [800];\n",
    "\n",
    "# meshpathfile\n",
    "meshpathfile = 'meshpath.json'"
   ]
  },
  {
   "cell_type": "code",
   "execution_count": 9,
   "metadata": {},
   "outputs": [],
   "source": [
    "# make a backbone scenefile \n",
    "scenefile = backbone(template_file,\n",
    "camType,\n",
    "camFOV,\n",
    "camDefaultSetting,\n",
    "                  \n",
    "lightnamelist,\n",
    "lightposlist,\n",
    "                 \n",
    "objnamelist,\n",
    "objrotlist,\n",
    "objsizelist,\n",
    "objposlist,\n",
    "objvisiblelist,\n",
    "                  \n",
    "durationMS,\n",
    "bkgidx,\n",
    "bkgsize,\n",
    "\n",
    "meshpathfile\n",
    ");\n"
   ]
  },
  {
   "cell_type": "code",
   "execution_count": 15,
   "metadata": {},
   "outputs": [],
   "source": [
    "# set object position\n",
    "\n",
    "# objposlist = [\n",
    "# [0, 5, -5],\n",
    "# [-3.5, 0, 0],\n",
    "# [3.5, 0, 0],\n",
    "# ];\n",
    "\n",
    "objposlist = [[0,0,0],[1,0,0]]\n",
    "scenefile3 = backbone(template_file,\n",
    "camType,\n",
    "camFOV,\n",
    "camDefaultSetting,\n",
    "                  \n",
    "lightnamelist,\n",
    "lightposlist,\n",
    "                 \n",
    "objnamelist,\n",
    "objrotlist,\n",
    "objsizelist,\n",
    "objposlist,\n",
    "objvisiblelist,\n",
    "                  \n",
    "durationMS,\n",
    "bkgidx,\n",
    "bkgsize,\n",
    "                      \n",
    "meshpathfile\n",
    ");\n"
   ]
  },
  {
   "cell_type": "code",
   "execution_count": 82,
   "metadata": {},
   "outputs": [
    {
     "name": "stdout",
     "output_type": "stream",
     "text": [
      "20211124_default_im1_dur800ms.json\n"
     ]
    }
   ],
   "source": [
    "f_n = 'default'\n",
    "\n",
    "# save out json files\n",
    "numset = 0 \n",
    "filename = f_n + '_'\n",
    "savetoFile(scenefile3,numset,filename)\n",
    "\n",
    "# make only bkg \n",
    "scenefile7 = copy.deepcopy(scenefile3)\n",
    "for obj in scenefile7['OBJECTS'].keys():\n",
    "    scenefile7['OBJECTS'][obj]['visible'] = [0]\n",
    "\n",
    "# save out json files\n",
    "numset = 0 \n",
    "filename = f_n + '_onlybkg_'\n",
    "savetoFile(scenefile7,numset,filename)\n",
    "\n",
    "# make no bkg files\n",
    "scenefile8 = copy.deepcopy(scenefile3)\n",
    "scenefile8 = editScenefile(scenefile8,'IMAGES','imageidx',[])\n",
    "\n",
    "# save out json files\n",
    "numset = 0 \n",
    "filename = f_n + '_nobkg_'\n",
    "savetoFile(scenefile8,numset,filename)\n",
    "\n",
    "# merge scenefiles\n",
    "scenefile_new = mergeScenefiles([scenefile3,scenefile7,scenefile8])\n",
    "\n",
    "# save out json files\n",
    "numset = 0 \n",
    "filename = f_n + '_merged_'\n",
    "savetoFile(scenefile_new,numset,filename)"
   ]
  },
  {
   "cell_type": "markdown",
   "metadata": {},
   "source": [
    "# OBJECT VISIBILITY"
   ]
  },
  {
   "cell_type": "code",
   "execution_count": 86,
   "metadata": {},
   "outputs": [],
   "source": [
    "# permute visibility across multiple objects\n",
    "objvisiblelist = [0, 1, 1];\n",
    "scenefile6 = permute_obj_param(\n",
    "scenefile3,\n",
    "objnamelist,\n",
    "\"visible\",\n",
    "objvisiblelist\n",
    ");"
   ]
  },
  {
   "cell_type": "code",
   "execution_count": 87,
   "metadata": {},
   "outputs": [],
   "source": [
    "objvisiblelist = [0, 0,1];\n",
    "scenefile6 = permute_obj_param(\n",
    "scenefile6,\n",
    "objnamelist,\n",
    "\"visible\",\n",
    "objvisiblelist\n",
    ");"
   ]
  },
  {
   "cell_type": "code",
   "execution_count": 88,
   "metadata": {},
   "outputs": [
    {
     "name": "stdout",
     "output_type": "stream",
     "text": [
      "20211124_objVisible_im7_dur800ms.json\n"
     ]
    }
   ],
   "source": [
    "scenefile6 = editScenefile(scenefile6,'IMAGES','imageidx',np.tile(int(13),getLongestArray(scenefile6)).tolist())"
   ]
  },
  {
   "cell_type": "code",
   "execution_count": 89,
   "metadata": {},
   "outputs": [
    {
     "name": "stdout",
     "output_type": "stream",
     "text": [
      "20211124_objVisible_onlybkg_im7_dur800ms.json\n"
     ]
    }
   ],
   "source": [
    "f_n = 'objVisible'\n",
    "# save out json files\n",
    "numset = 0 \n",
    "filename = f_n + '_'\n",
    "savetoFile(scenefile6,numset,filename)\n",
    "\n",
    "# make no bkg files\n",
    "scenefile8 = copy.deepcopy(scenefile6)\n",
    "scenefile8 = editScenefile(scenefile8,'IMAGES','imageidx',[])\n",
    "\n",
    "# save out json files\n",
    "numset = 0 \n",
    "filename = f_n + '_onlybkg_'\n",
    "savetoFile(scenefile8,numset,filename)\n",
    "\n",
    "# merge scenefiles\n",
    "scenefile_new = mergeScenefiles([scenefile6,scenefile8])\n",
    "\n",
    "# save out json files\n",
    "numset = 0 \n",
    "filename =f_n + '_merged_'\n",
    "savetoFile(scenefile_new,numset,filename)"
   ]
  },
  {
   "cell_type": "markdown",
   "metadata": {},
   "source": [
    "# OBJECT POSITION"
   ]
  },
  {
   "cell_type": "code",
   "execution_count": 91,
   "metadata": {},
   "outputs": [],
   "source": [
    "# permute position across multiple objects \n",
    "objposlist = [\n",
    "[0, 5, -5],\n",
    "[-3.5, 0, 0],\n",
    "[3.5, 0, 0],\n",
    "];\n",
    "scenefile6 = permute_obj_param(\n",
    "scenefile3,\n",
    "objnamelist,\n",
    "\"positionTHREEJS\",\n",
    "objposlist\n",
    ");\n"
   ]
  },
  {
   "cell_type": "code",
   "execution_count": 92,
   "metadata": {},
   "outputs": [
    {
     "name": "stdout",
     "output_type": "stream",
     "text": [
      "20211124_objPos_im7_dur800ms.json\n",
      "20211124_objPos_nobkg_im7_dur800ms.json\n",
      "20211124_objPos_merged_im14_dur800ms.json\n"
     ]
    }
   ],
   "source": [
    "scenefile6 = editScenefile(scenefile6,'IMAGES','imageidx',np.tile(int(13),getLongestArray(scenefile6)).tolist())\n",
    "f_n = 'objPos'\n",
    "# save out json files\n",
    "numset = 0 \n",
    "filename = f_n + '_'\n",
    "savetoFile(scenefile6,numset,filename)\n",
    "\n",
    "# make no bkg files\n",
    "scenefile8 = copy.deepcopy(scenefile6)\n",
    "scenefile8 = editScenefile(scenefile8,'IMAGES','imageidx',[])\n",
    "\n",
    "# save out json files\n",
    "numset = 0 \n",
    "filename =  f_n + '_nobkg_'\n",
    "savetoFile(scenefile8,numset,filename)\n",
    "\n",
    "# merge scenefiles\n",
    "scenefile_new = mergeScenefiles([scenefile6,scenefile8])\n",
    "\n",
    "# save out json files\n",
    "numset = 0 \n",
    "filename = 'objPos_merged_'\n",
    "savetoFile(scenefile_new,numset,filename)"
   ]
  },
  {
   "cell_type": "code",
   "execution_count": null,
   "metadata": {},
   "outputs": [],
   "source": [
    "#!gsutil cp 20211116_objTranslation_train_smallsize_im6_dur800ms.json gs://sandbox-ce2c5.appspot.com/mkturkfiles/scenebags/BlascoScenefile"
   ]
  },
  {
   "cell_type": "markdown",
   "metadata": {},
   "source": [
    "# CAMERA MOTION"
   ]
  },
  {
   "cell_type": "code",
   "execution_count": 93,
   "metadata": {},
   "outputs": [
    {
     "data": {
      "text/plain": [
       "[0, 0, 200]"
      ]
     },
     "execution_count": 93,
     "metadata": {},
     "output_type": "execute_result"
    }
   ],
   "source": [
    "camDefaultPosition"
   ]
  },
  {
   "cell_type": "code",
   "execution_count": 94,
   "metadata": {},
   "outputs": [
    {
     "data": {
      "text/plain": [
       "[0, 0, 0]"
      ]
     },
     "execution_count": 94,
     "metadata": {},
     "output_type": "execute_result"
    }
   ],
   "source": [
    "camDefaultTarget"
   ]
  },
  {
   "cell_type": "code",
   "execution_count": 95,
   "metadata": {},
   "outputs": [],
   "source": [
    "# pan  # change camera position and target # linear \n",
    "\n",
    "camMotiondelta = 10;\n",
    "\n",
    "camPosright = camDefaultPosition[0] + camMotiondelta;\n",
    "camPosleft = camDefaultPosition[0] - camMotiondelta;\n",
    "camTargetright = camDefaultTarget[0] + camMotiondelta;\n",
    "camTargetleft = camDefaultTarget[0] - camMotiondelta;\n",
    "\n",
    "camPosup = camDefaultPosition[1] + camMotiondelta;\n",
    "camPosdown = camDefaultPosition[1] - camMotiondelta;\n",
    "camTargetup = camDefaultTarget[1] + camMotiondelta;\n",
    "camTargetdown = camDefaultTarget[1] - camMotiondelta;\n",
    "\n",
    "camPosforward = camDefaultPosition[2] - camMotiondelta;\n",
    "camPosback = camDefaultPosition[2] + camMotiondelta;\n",
    "camTargetforward = camDefaultTarget[2] - camMotiondelta;\n",
    "camTargetback = camDefaultTarget[2] + camMotiondelta;\n",
    "\n",
    "# x\n",
    "panx_left = [\n",
    "[camPosright, camPosleft],\n",
    "camDefaultPosition[1],\n",
    "camDefaultPosition[2],\n",
    "[camTargetright, camTargetleft],\n",
    "camDefaultTarget[1],\n",
    "camDefaultTarget[2],\n",
    "];\n",
    "\n",
    "panx_right = [\n",
    "[camPosleft, camPosright],\n",
    "camDefaultPosition[1],\n",
    "camDefaultPosition[2],\n",
    "[camTargetleft, camTargetright],\n",
    "camDefaultTarget[1],\n",
    "camDefaultTarget[2],\n",
    "];\n",
    "\n",
    "# y\n",
    "pany_up = [\n",
    "camDefaultPosition[0],\n",
    "[camPosdown, camPosup],\n",
    "camDefaultPosition[2],\n",
    "camDefaultTarget[0],\n",
    "[camTargetdown, camTargetup],\n",
    "camDefaultTarget[2],\n",
    "];\n",
    "\n",
    "pany_down = [\n",
    "camDefaultPosition[0],\n",
    "[camPosup, camPosdown],\n",
    "camDefaultPosition[2],\n",
    "camDefaultTarget[0],\n",
    "[camTargetup, camTargetdown],\n",
    "camDefaultTarget[2],\n",
    "];\n",
    "\n",
    "# z\n",
    "panz_forward = [\n",
    "camDefaultPosition[0],\n",
    "camDefaultPosition[1],\n",
    "[camPosback, camPosforward],\n",
    "camDefaultTarget[0],\n",
    "camDefaultTarget[1],\n",
    "[camTargetback, camTargetforward],\n",
    "];\n",
    "\n",
    "panz_back = [\n",
    "camDefaultPosition[0],\n",
    "camDefaultPosition[1],\n",
    "[camPosforward, camPosback],\n",
    "camDefaultTarget[0],\n",
    "camDefaultTarget[1],\n",
    "[camTargetforward, camTargetback],\n",
    "];\n"
   ]
  },
  {
   "cell_type": "code",
   "execution_count": 96,
   "metadata": {},
   "outputs": [],
   "source": [
    "# zoom in and out (changing camera position, keeping the object as target)\n",
    "zoom_inz = [\n",
    "camDefaultPosition[0],\n",
    "camDefaultPosition[1],\n",
    "[camPosback, camPosforward],\n",
    "camDefaultTarget[0],\n",
    "    camDefaultTarget[1],\n",
    "    camDefaultTarget[2]\n",
    "];\n",
    "\n",
    "zoom_outz = [\n",
    "camDefaultPosition[0],\n",
    "camDefaultPosition[1],\n",
    "[camPosforward, camPosback],\n",
    "camDefaultTarget[0],\n",
    "    camDefaultTarget[1],\n",
    "    camDefaultTarget[2]\n",
    "];\n"
   ]
  },
  {
   "cell_type": "code",
   "execution_count": 97,
   "metadata": {},
   "outputs": [],
   "source": [
    "# rotate # change camera target\n",
    "# rotx_left = [\n",
    "# camDefaultPosition[0],\n",
    "# camDefaultPosition[1],\n",
    "# camDefaultPosition[2],\n",
    "# [camTargetright, camTargetleft],\n",
    "# camDefaultTarget[1],\n",
    "# camDefaultTarget[2],\n",
    "# ];\n",
    "\n",
    "# rotx_right = [\n",
    "# camDefaultPosition[0],\n",
    "# camDefaultPosition[1],\n",
    "# camDefaultPosition[2],\n",
    "# [camTargetleft, camTargetright],\n",
    "# camDefaultTarget[1],\n",
    "# camDefaultTarget[2],\n",
    "# ];\n",
    "\n",
    "# y\n",
    "roty_up = [\n",
    "camDefaultPosition[0],\n",
    "    camDefaultPosition[1],\n",
    "    camDefaultPosition[2],\n",
    "camDefaultTarget[0],\n",
    "[camTargetdown, camTargetup],\n",
    "camDefaultTarget[2],\n",
    "];\n",
    "\n",
    "roty_down = [\n",
    "camDefaultPosition[0],\n",
    "    camDefaultPosition[1],\n",
    "    camDefaultPosition[2],\n",
    "camDefaultTarget[0],\n",
    "[camTargetup, camTargetdown],\n",
    "camDefaultTarget[2],\n",
    "];\n",
    "\n",
    "# # z\n",
    "# rotz_forward = [\n",
    "# camDefaultPosition[0],\n",
    "#     camDefaultPosition[1],\n",
    "#     camDefaultPosition[2],\n",
    "# camDefaultTarget[0],\n",
    "# camDefaultTarget[1],\n",
    "# [camTargetback, camTargetforward],\n",
    "# ];\n",
    "\n",
    "# rotz_back = [\n",
    "# camDefaultPosition[0],\n",
    "#     camDefaultPosition[1],\n",
    "#     camDefaultPosition[2],\n",
    "# camDefaultTarget[0],\n",
    "# camDefaultTarget[1],\n",
    "# [camTargetforward, camTargetback],\n",
    "# ];\n",
    "\n"
   ]
  },
  {
   "cell_type": "code",
   "execution_count": 100,
   "metadata": {},
   "outputs": [],
   "source": [
    "# orbit # change camera position\n",
    "\n",
    "from scipy.spatial.transform import Rotation as R\n",
    "v = np.array(camDefaultPosition)\n",
    "\n",
    "rot_angle = 10\n",
    "r = R.from_euler('y',rot_angle,degrees = True)\n",
    "camPosright = r.apply(v)\n",
    "\n",
    "rot_angle = -10\n",
    "r = R.from_euler('y',rot_angle,degrees = True)\n",
    "camPosleft = r.apply(v)\n",
    "\n",
    "orbitx_left = [\n",
    "[camPosright[0], camPosleft[0]],\n",
    "[camPosright[1], camPosleft[1]],\n",
    "    [camPosright[2], camPosleft[2]],\n",
    "camDefaultTarget[0],\n",
    "    camDefaultTarget[1],\n",
    "    camDefaultTarget[2]\n",
    "];\n",
    "orbitx_right = [\n",
    "[camPosleft[0], camPosright[0]],\n",
    "[camPosleft[1], camPosright[1]],\n",
    "    [camPosleft[2], camPosright[2]],\n",
    "camDefaultTarget[0],\n",
    "    camDefaultTarget[1],\n",
    "    camDefaultTarget[2]\n",
    "];\n",
    "\n",
    "rot_angle = 10\n",
    "v_flipped = [v[1],v[0],v[2]]\n",
    "r = R.from_euler('y',rot_angle,degrees = True)\n",
    "camPosup = r.apply(v_flipped)\n",
    "\n",
    "rot_angle = -10\n",
    "r = R.from_euler('y',rot_angle,degrees = True)\n",
    "camPosdown = r.apply(v_flipped)\n",
    "\n",
    "# y\n",
    "orbity_up = [\n",
    "[camPosdown[1], camPosup[1]],\n",
    "[camPosdown[0], camPosup[0]],\n",
    "[camPosdown[2], camPosup[2]],\n",
    "camDefaultTarget[0],\n",
    "    camDefaultTarget[1],\n",
    "    camDefaultTarget[2]\n",
    "];\n",
    "\n",
    "orbity_down = [\n",
    "[camPosup[1], camPosdown[1]],\n",
    "[camPosup[0], camPosdown[0]],\n",
    "[camPosup[2], camPosdown[2]],\n",
    "camDefaultTarget[0],\n",
    "    camDefaultTarget[1],\n",
    "    camDefaultTarget[2]\n",
    "];\n"
   ]
  },
  {
   "cell_type": "code",
   "execution_count": 101,
   "metadata": {},
   "outputs": [],
   "source": [
    "camPosCombinations = [\n",
    "panx_left,\n",
    "panx_right,\n",
    "pany_down,\n",
    "pany_up,\n",
    "panz_back,\n",
    "panz_forward,\n",
    "# rotx_left,\n",
    "# rotx_right,\n",
    "roty_down,\n",
    "roty_up,\n",
    "# rotz_back,\n",
    "# rotz_forward,\n",
    "orbitx_left,\n",
    "orbitx_right,\n",
    "orbity_down,\n",
    "orbity_up,\n",
    "    zoom_inz,\n",
    "    zoom_outz\n",
    "];"
   ]
  },
  {
   "cell_type": "code",
   "execution_count": 103,
   "metadata": {},
   "outputs": [],
   "source": [
    "scenefile6 = editScenefile(scenefile3,'camera00','camSetting',camPosCombinations)"
   ]
  },
  {
   "cell_type": "code",
   "execution_count": 104,
   "metadata": {},
   "outputs": [
    {
     "name": "stdout",
     "output_type": "stream",
     "text": [
      "20211124_camMotion_im14_dur800ms.json\n",
      "20211124_camMotion_onlybkg_im14_dur800ms.json\n",
      "20211124_camMotion_nobkg_im14_dur800ms.json\n",
      "20211124_camMotion_merged_im42_dur800ms.json\n"
     ]
    }
   ],
   "source": [
    "scenefile6 = editScenefile(scenefile6,'IMAGES','imageidx',np.tile(int(13),getLongestArray(scenefile6)).tolist())\n",
    "\n",
    "f_n = 'camMotion'\n",
    "# save out json files\n",
    "numset = 0 \n",
    "filename =  f_n + '_'\n",
    "savetoFile(scenefile6,numset,filename)\n",
    "\n",
    "# make only bkg \n",
    "scenefile7 = copy.deepcopy(scenefile6)\n",
    "for obj in scenefile7['OBJECTS'].keys():\n",
    "    scenefile7['OBJECTS'][obj]['visible'] = [0]\n",
    "\n",
    "# save out json files\n",
    "numset = 0 \n",
    "filename =  f_n + '_onlybkg_'\n",
    "savetoFile(scenefile7,numset,filename)\n",
    "\n",
    "# make no bkg files\n",
    "scenefile8 = copy.deepcopy(scenefile6)\n",
    "scenefile8 = editScenefile(scenefile8,'IMAGES','imageidx',[])\n",
    "\n",
    "# save out json files\n",
    "numset = 0 \n",
    "filename =  f_n + '_nobkg_'\n",
    "savetoFile(scenefile8,numset,filename)\n",
    "\n",
    "# merge scenefiles\n",
    "scenefile_new = mergeScenefiles([scenefile6,scenefile7,scenefile8])\n",
    "\n",
    "# save out json files\n",
    "numset = 0 \n",
    "filename =  f_n + '_merged_'\n",
    "savetoFile(scenefile_new,numset,filename)"
   ]
  },
  {
   "cell_type": "markdown",
   "metadata": {},
   "source": [
    "# OBJECT ROTATION"
   ]
  },
  {
   "cell_type": "code",
   "execution_count": 126,
   "metadata": {},
   "outputs": [],
   "source": [
    "r = 90\n",
    "rotCombinations = [\n",
    "    [0, [-r, r], 0],\n",
    "    [0, [r, -r], 0], \n",
    "    [[-r, r], 0, 0],\n",
    "    [[r, -r], 0, 0]\n",
    "]\n",
    "obj_rot = 'sunglasses'\n",
    "\n",
    "scenefile6 = editScenefile(scenefile3,obj_rot,'rotationDegrees',rotCombinations)\n",
    "\n",
    "f_n = 'objRot'"
   ]
  },
  {
   "cell_type": "code",
   "execution_count": 127,
   "metadata": {},
   "outputs": [
    {
     "name": "stdout",
     "output_type": "stream",
     "text": [
      "20211124_objRot_im4_dur800ms.json\n",
      "20211124_objRot_nobkg_im4_dur800ms.json\n",
      "20211124_objRot_merged_im8_dur800ms.json\n"
     ]
    }
   ],
   "source": [
    "scenefile6 = editScenefile(scenefile6,'IMAGES','imageidx',np.tile(int(13),getLongestArray(scenefile6)).tolist())\n",
    "\n",
    "# save out json files\n",
    "numset = 0 \n",
    "filename =  f_n + '_'\n",
    "savetoFile(scenefile6,numset,filename)\n",
    "\n",
    "# make no bkg files\n",
    "scenefile8 = copy.deepcopy(scenefile6)\n",
    "scenefile8 = editScenefile(scenefile8,'IMAGES','imageidx',[])\n",
    "\n",
    "# save out json files\n",
    "numset = 0 \n",
    "filename =  f_n + '_nobkg_'\n",
    "savetoFile(scenefile8,numset,filename)\n",
    "\n",
    "# merge scenefiles\n",
    "scenefile_new = mergeScenefiles([scenefile6,scenefile8])\n",
    "\n",
    "# save out json files\n",
    "numset = 0 \n",
    "filename =  f_n + '_merged_'\n",
    "savetoFile(scenefile_new,numset,filename)"
   ]
  },
  {
   "cell_type": "code",
   "execution_count": 146,
   "metadata": {},
   "outputs": [],
   "source": [
    "# object motion \n",
    "r= 10 \n",
    "objpos_orig = objposlist[0]\n",
    "\n",
    "posCombinations = [\n",
    "    [objpos_orig[0], [-r + objpos_orig[1], r+ objpos_orig[1]], objpos_orig[2]],\n",
    "    [objpos_orig[0], [r+ objpos_orig[1], -r+ objpos_orig[1]], objpos_orig[2]], \n",
    "    [[-r + objpos_orig[0], r + objpos_orig[0]], objpos_orig[1], objpos_orig[2]],\n",
    "    [[r + objpos_orig[0], -r+ objpos_orig[0]], objpos_orig[1], objpos_orig[2]],\n",
    "    [objpos_orig[0],objpos_orig[1],[-r + objpos_orig[2], r+ objpos_orig[2]]],\n",
    "    [objpos_orig[0],objpos_orig[1],[r+ objpos_orig[2], -r+ objpos_orig[2]]]\n",
    "]\n",
    "obj_move = 'sunglasses'"
   ]
  },
  {
   "cell_type": "code",
   "execution_count": 147,
   "metadata": {},
   "outputs": [],
   "source": [
    "scenefile6 = editScenefile(scenefile3,obj_move,'positionTHREEJS',posCombinations)"
   ]
  },
  {
   "cell_type": "code",
   "execution_count": 148,
   "metadata": {},
   "outputs": [
    {
     "name": "stdout",
     "output_type": "stream",
     "text": [
      "20211124_objTranslation_im6_dur800ms.json\n",
      "20211124_objTranslation_nobkg_im6_dur800ms.json\n",
      "20211124_objTranslation_merged_im12_dur800ms.json\n"
     ]
    }
   ],
   "source": [
    "f_n = 'objTranslation'\n",
    "scenefile6 = editScenefile(scenefile6,'IMAGES','imageidx',np.tile(int(13),getLongestArray(scenefile6)).tolist())\n",
    "\n",
    "# save out json files\n",
    "numset = 0 \n",
    "filename =  f_n + '_'\n",
    "savetoFile(scenefile6,numset,filename)\n",
    "\n",
    "# make no bkg files\n",
    "scenefile8 = copy.deepcopy(scenefile6)\n",
    "scenefile8 = editScenefile(scenefile8,'IMAGES','imageidx',[])\n",
    "\n",
    "# save out json files\n",
    "numset = 0 \n",
    "filename =  f_n + '_nobkg_'\n",
    "savetoFile(scenefile8,numset,filename)\n",
    "\n",
    "# merge scenefiles\n",
    "scenefile_new = mergeScenefiles([scenefile6,scenefile8])\n",
    "\n",
    "# save out json files\n",
    "numset = 0 \n",
    "filename =  f_n + '_merged_'\n",
    "savetoFile(scenefile_new,numset,filename)"
   ]
  },
  {
   "cell_type": "markdown",
   "metadata": {},
   "source": [
    "# CAMERA POSITION AND MOTION"
   ]
  },
  {
   "cell_type": "code",
   "execution_count": 139,
   "metadata": {},
   "outputs": [],
   "source": [
    "# select positions of the camera\n",
    "# 8 points around the cube\n",
    "camPosdelta =camDefaultPosition[2]\n",
    "camPos = [\n",
    "    [camPosdelta,camDefaultPosition[1],camDefaultPosition[2]],\n",
    "    [-camPosdelta,camDefaultPosition[1],camDefaultPosition[2]],\n",
    "    \n",
    "        [camPosdelta,camDefaultPosition[1],0],\n",
    "    [-camPosdelta,camDefaultPosition[1],0],\n",
    "    \n",
    "       [camPosdelta,camDefaultPosition[1],-camPosdelta],\n",
    "    [-camPosdelta,camDefaultPosition[1],-camPosdelta],\n",
    "    \n",
    "     [0,camDefaultPosition[1],camPosdelta],\n",
    "    [0,camDefaultPosition[1],-camPosdelta],\n",
    "]\n",
    "\n",
    "# rotate y-axis for each position\n",
    "new_camPos = []\n",
    "for c in camPos:\n",
    "    new_camPos.append([c[0],c[1],c[2],camDefaultTarget[0],camDefaultTarget[1],camDefaultTarget[2]])\n"
   ]
  },
  {
   "cell_type": "code",
   "execution_count": 141,
   "metadata": {},
   "outputs": [
    {
     "name": "stdout",
     "output_type": "stream",
     "text": [
      "20211124_camPos_im8_dur800ms.json\n",
      "20211124_camPos_onlybkg_im8_dur800ms.json\n",
      "20211124_camPos_nobkg_im8_dur800ms.json\n",
      "20211124_camPos_merged_im24_dur800ms.json\n"
     ]
    }
   ],
   "source": [
    "scenefile6 = editScenefile(scenefile3,'camera00','camSetting',new_camPos)\n",
    "\n",
    "scenefile6 = editScenefile(scenefile6,'IMAGES','imageidx',np.tile(int(13),getLongestArray(scenefile6)).tolist())\n",
    "\n",
    "f_n = 'camPos'\n",
    "# save out json files\n",
    "numset = 0 \n",
    "filename =  f_n + '_'\n",
    "savetoFile(scenefile6,numset,filename)\n",
    "\n",
    "# make only bkg \n",
    "scenefile7 = copy.deepcopy(scenefile6)\n",
    "for obj in scenefile7['OBJECTS'].keys():\n",
    "    scenefile7['OBJECTS'][obj]['visible'] = [0]\n",
    "\n",
    "# save out json files\n",
    "numset = 0 \n",
    "filename =  f_n + '_onlybkg_'\n",
    "savetoFile(scenefile7,numset,filename)\n",
    "\n",
    "# make no bkg files\n",
    "scenefile8 = copy.deepcopy(scenefile6)\n",
    "scenefile8 = editScenefile(scenefile8,'IMAGES','imageidx',[])\n",
    "\n",
    "# save out json files\n",
    "numset = 0 \n",
    "filename =  f_n + '_nobkg_'\n",
    "savetoFile(scenefile8,numset,filename)\n",
    "\n",
    "# merge scenefiles\n",
    "scenefile_new = mergeScenefiles([scenefile6,scenefile7,scenefile8])\n",
    "\n",
    "# save out json files\n",
    "numset = 0 \n",
    "filename =  f_n + '_merged_'\n",
    "savetoFile(scenefile_new,numset,filename)"
   ]
  },
  {
   "cell_type": "code",
   "execution_count": 142,
   "metadata": {},
   "outputs": [],
   "source": [
    "# rotate y-axis for each position\n",
    "new_camPos = []\n",
    "for c in camPos:\n",
    "    \n",
    "    rot_angle = 5\n",
    "    r = R.from_euler('y',rot_angle,degrees = True)\n",
    "    camTargetright = r.apply(c) - c\n",
    "\n",
    "    rot_angle = -5\n",
    "    r = R.from_euler('y',rot_angle,degrees = True)\n",
    "    camTargetleft = r.apply(c) - c\n",
    "\n",
    "    new_camPos.append([c[0],c[1],c[2],[camTargetright[0],camTargetleft[0]],[camTargetright[1],camTargetleft[1]],\n",
    "                              [camTargetright[2],camTargetleft[2]]])\n",
    "    new_camPos.append([c[0],c[1],c[2],[camTargetleft[0],camTargetright[0]],[camTargetleft[1],camTargetright[1]],\n",
    "          [camTargetleft[2],camTargetright[2]]])"
   ]
  },
  {
   "cell_type": "code",
   "execution_count": 143,
   "metadata": {},
   "outputs": [],
   "source": [
    "scenefile6 = editScenefile(scenefile3,'camera00','camSetting',new_camPos)"
   ]
  },
  {
   "cell_type": "code",
   "execution_count": 144,
   "metadata": {},
   "outputs": [
    {
     "name": "stdout",
     "output_type": "stream",
     "text": [
      "20211124_camPosMotion_im16_dur800ms.json\n",
      "20211124_camPosMotion_onlybkg_im16_dur800ms.json\n",
      "20211124_camPosMotion_nobkg_im16_dur800ms.json\n",
      "20211124_camPosMotion_merged_im48_dur800ms.json\n"
     ]
    }
   ],
   "source": [
    "scenefile6 = editScenefile(scenefile6,'IMAGES','imageidx',np.tile(int(13),getLongestArray(scenefile6)).tolist())\n",
    "\n",
    "f_n = 'camPosMotion'\n",
    "# save out json files\n",
    "numset = 0 \n",
    "filename =  f_n + '_'\n",
    "savetoFile(scenefile6,numset,filename)\n",
    "\n",
    "# make only bkg \n",
    "scenefile7 = copy.deepcopy(scenefile6)\n",
    "for obj in scenefile7['OBJECTS'].keys():\n",
    "    scenefile7['OBJECTS'][obj]['visible'] = [0]\n",
    "\n",
    "# save out json files\n",
    "numset = 0 \n",
    "filename =  f_n + '_onlybkg_'\n",
    "savetoFile(scenefile7,numset,filename)\n",
    "\n",
    "# make no bkg files\n",
    "scenefile8 = copy.deepcopy(scenefile6)\n",
    "scenefile8 = editScenefile(scenefile8,'IMAGES','imageidx',[])\n",
    "\n",
    "# save out json files\n",
    "numset = 0 \n",
    "filename =  f_n + '_nobkg_'\n",
    "savetoFile(scenefile8,numset,filename)\n",
    "\n",
    "# merge scenefiles\n",
    "scenefile_new = mergeScenefiles([scenefile6,scenefile7,scenefile8])\n",
    "\n",
    "# save out json files\n",
    "numset = 0 \n",
    "filename =  f_n + '_merged_'\n",
    "savetoFile(scenefile_new,numset,filename)"
   ]
  },
  {
   "cell_type": "markdown",
   "metadata": {},
   "source": [
    "# APPEARANCE "
   ]
  },
  {
   "cell_type": "code",
   "execution_count": 50,
   "metadata": {},
   "outputs": [],
   "source": [
    "lt_color = '#FF0000'\n",
    "f_n = 'Redtint_'"
   ]
  },
  {
   "cell_type": "code",
   "execution_count": 51,
   "metadata": {},
   "outputs": [],
   "source": [
    "scenefile6 = editScenefile(scenefile3,'light01','color',lt_color)"
   ]
  },
  {
   "cell_type": "code",
   "execution_count": 52,
   "metadata": {},
   "outputs": [
    {
     "name": "stdout",
     "output_type": "stream",
     "text": [
      "20211124_Redtint_im1_dur800ms.json\n",
      "20211124_Redtint_onlybkg_im1_dur800ms.json\n",
      "20211124_Redtint_nobkg_im1_dur800ms.json\n",
      "20211124_Redtint_merged_im3_dur800ms.json\n"
     ]
    }
   ],
   "source": [
    "scenefile6 = editScenefile(scenefile6,'IMAGES','imageidx',np.tile(int(13),getLongestArray(scenefile6)).tolist())\n",
    "\n",
    "# save out json files\n",
    "numset = 0 \n",
    "filename = f_n\n",
    "savetoFile(scenefile6,numset,filename)\n",
    "\n",
    "# make only bkg \n",
    "scenefile7 = copy.deepcopy(scenefile6)\n",
    "for obj in scenefile7['OBJECTS'].keys():\n",
    "    scenefile7['OBJECTS'][obj]['visible'] = [0]\n",
    "\n",
    "\n",
    "# save out json files\n",
    "numset = 0 \n",
    "filename = f_n + '_onlybkg_'\n",
    "savetoFile(scenefile7,numset,filename)\n",
    "\n",
    "# make no bkg files\n",
    "scenefile8 = copy.deepcopy(scenefile6)\n",
    "scenefile8 = editScenefile(scenefile8,'IMAGES','imageidx',[])\n",
    "\n",
    "# save out json files\n",
    "numset = 0 \n",
    "filename = f_n + '_nobkg_'\n",
    "savetoFile(scenefile8,numset,filename)\n",
    "\n",
    "# merge scenefiles\n",
    "scenefile_new = mergeScenefiles([scenefile6,scenefile7,scenefile8])\n",
    "\n",
    "# save out json files\n",
    "numset = 0 \n",
    "filename = f_n + '_merged_'\n",
    "savetoFile(scenefile_new,numset,filename)"
   ]
  },
  {
   "cell_type": "code",
   "execution_count": null,
   "metadata": {},
   "outputs": [],
   "source": [
    "# hue rotate, invert grayscale \n",
    "\n",
    "editScenefile(scenefile3,'light01','color',lt_color)\n",
    "hue_rotate = [80,120]\n",
    "grayscale = 360\n",
    "invert = 180 \n"
   ]
  }
 ],
 "metadata": {
  "kernelspec": {
   "display_name": "Python 3 (ipykernel)",
   "language": "python",
   "name": "python3"
  },
  "language_info": {
   "codemirror_mode": {
    "name": "ipython",
    "version": 3
   },
   "file_extension": ".py",
   "mimetype": "text/x-python",
   "name": "python",
   "nbconvert_exporter": "python",
   "pygments_lexer": "ipython3",
   "version": "3.7.4"
  },
  "varInspector": {
   "cols": {
    "lenName": 16,
    "lenType": 16,
    "lenVar": 40
   },
   "kernels_config": {
    "python": {
     "delete_cmd_postfix": "",
     "delete_cmd_prefix": "del ",
     "library": "var_list.py",
     "varRefreshCmd": "print(var_dic_list())"
    },
    "r": {
     "delete_cmd_postfix": ") ",
     "delete_cmd_prefix": "rm(",
     "library": "var_list.r",
     "varRefreshCmd": "cat(var_dic_list()) "
    }
   },
   "types_to_exclude": [
    "module",
    "function",
    "builtin_function_or_method",
    "instance",
    "_Feature"
   ],
   "window_display": false
  }
 },
 "nbformat": 4,
 "nbformat_minor": 4
}
