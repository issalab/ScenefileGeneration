{
 "cells": [
  {
   "cell_type": "code",
   "execution_count": 15,
   "id": "ed101953",
   "metadata": {
    "scrolled": true
   },
   "outputs": [],
   "source": [
    "%autoreload 2"
   ]
  },
  {
   "cell_type": "code",
   "execution_count": 97,
   "id": "2d09e41f",
   "metadata": {
    "scrolled": true
   },
   "outputs": [],
   "source": [
    "import os\n",
    "import numpy as np\n",
    "import json\n",
    "\n",
    "from scenefile import *"
   ]
  },
  {
   "cell_type": "code",
   "execution_count": 98,
   "id": "46fc21ed",
   "metadata": {
    "scrolled": true
   },
   "outputs": [],
   "source": [
    "sf = Scenefile()"
   ]
  },
  {
   "cell_type": "code",
   "execution_count": 99,
   "id": "1146c7a9",
   "metadata": {
    "scrolled": true
   },
   "outputs": [
    {
     "data": {
      "text/plain": [
       "<scenefile.Scenefile at 0x107c4e090>"
      ]
     },
     "execution_count": 99,
     "metadata": {},
     "output_type": "execute_result"
    }
   ],
   "source": [
    "sf"
   ]
  },
  {
   "cell_type": "code",
   "execution_count": 145,
   "id": "2f28f64e",
   "metadata": {
    "scrolled": true
   },
   "outputs": [],
   "source": [
    "cam = Camera()\n",
    "\n",
    "cam.set_position(np.ones((3, 24)))\n",
    "cam.set_target(2*np.ones((3, 24)))"
   ]
  },
  {
   "cell_type": "code",
   "execution_count": 146,
   "id": "a5785103",
   "metadata": {
    "scrolled": true
   },
   "outputs": [
    {
     "data": {
      "text/plain": [
       "{'type': 'PerspectiveCamera',\n",
       " 'fieldOfView': 45,\n",
       " 'near': 0.1,\n",
       " 'far': 2000,\n",
       " 'position': {'x': [1.0,\n",
       "   1.0,\n",
       "   1.0,\n",
       "   1.0,\n",
       "   1.0,\n",
       "   1.0,\n",
       "   1.0,\n",
       "   1.0,\n",
       "   1.0,\n",
       "   1.0,\n",
       "   1.0,\n",
       "   1.0,\n",
       "   1.0,\n",
       "   1.0,\n",
       "   1.0,\n",
       "   1.0,\n",
       "   1.0,\n",
       "   1.0,\n",
       "   1.0,\n",
       "   1.0,\n",
       "   1.0,\n",
       "   1.0,\n",
       "   1.0,\n",
       "   1.0],\n",
       "  'y': [1.0,\n",
       "   1.0,\n",
       "   1.0,\n",
       "   1.0,\n",
       "   1.0,\n",
       "   1.0,\n",
       "   1.0,\n",
       "   1.0,\n",
       "   1.0,\n",
       "   1.0,\n",
       "   1.0,\n",
       "   1.0,\n",
       "   1.0,\n",
       "   1.0,\n",
       "   1.0,\n",
       "   1.0,\n",
       "   1.0,\n",
       "   1.0,\n",
       "   1.0,\n",
       "   1.0,\n",
       "   1.0,\n",
       "   1.0,\n",
       "   1.0,\n",
       "   1.0],\n",
       "  'z': [1.0,\n",
       "   1.0,\n",
       "   1.0,\n",
       "   1.0,\n",
       "   1.0,\n",
       "   1.0,\n",
       "   1.0,\n",
       "   1.0,\n",
       "   1.0,\n",
       "   1.0,\n",
       "   1.0,\n",
       "   1.0,\n",
       "   1.0,\n",
       "   1.0,\n",
       "   1.0,\n",
       "   1.0,\n",
       "   1.0,\n",
       "   1.0,\n",
       "   1.0,\n",
       "   1.0,\n",
       "   1.0,\n",
       "   1.0,\n",
       "   1.0,\n",
       "   1.0]},\n",
       " 'targetTHREEJS': {'x': [2.0,\n",
       "   2.0,\n",
       "   2.0,\n",
       "   2.0,\n",
       "   2.0,\n",
       "   2.0,\n",
       "   2.0,\n",
       "   2.0,\n",
       "   2.0,\n",
       "   2.0,\n",
       "   2.0,\n",
       "   2.0,\n",
       "   2.0,\n",
       "   2.0,\n",
       "   2.0,\n",
       "   2.0,\n",
       "   2.0,\n",
       "   2.0,\n",
       "   2.0,\n",
       "   2.0,\n",
       "   2.0,\n",
       "   2.0,\n",
       "   2.0,\n",
       "   2.0],\n",
       "  'y': [2.0,\n",
       "   2.0,\n",
       "   2.0,\n",
       "   2.0,\n",
       "   2.0,\n",
       "   2.0,\n",
       "   2.0,\n",
       "   2.0,\n",
       "   2.0,\n",
       "   2.0,\n",
       "   2.0,\n",
       "   2.0,\n",
       "   2.0,\n",
       "   2.0,\n",
       "   2.0,\n",
       "   2.0,\n",
       "   2.0,\n",
       "   2.0,\n",
       "   2.0,\n",
       "   2.0,\n",
       "   2.0,\n",
       "   2.0,\n",
       "   2.0,\n",
       "   2.0],\n",
       "  'z': [2.0,\n",
       "   2.0,\n",
       "   2.0,\n",
       "   2.0,\n",
       "   2.0,\n",
       "   2.0,\n",
       "   2.0,\n",
       "   2.0,\n",
       "   2.0,\n",
       "   2.0,\n",
       "   2.0,\n",
       "   2.0,\n",
       "   2.0,\n",
       "   2.0,\n",
       "   2.0,\n",
       "   2.0,\n",
       "   2.0,\n",
       "   2.0,\n",
       "   2.0,\n",
       "   2.0,\n",
       "   2.0,\n",
       "   2.0,\n",
       "   2.0,\n",
       "   2.0]},\n",
       " 'visible': [1]}"
      ]
     },
     "execution_count": 146,
     "metadata": {},
     "output_type": "execute_result"
    }
   ],
   "source": [
    "cam.to_dict()"
   ]
  },
  {
   "cell_type": "code",
   "execution_count": 147,
   "id": "861238cf",
   "metadata": {},
   "outputs": [
    {
     "data": {
      "text/plain": [
       "24"
      ]
     },
     "execution_count": 147,
     "metadata": {},
     "output_type": "execute_result"
    }
   ],
   "source": [
    "cam.num_stimuli"
   ]
  },
  {
   "cell_type": "code",
   "execution_count": 148,
   "id": "9743af20",
   "metadata": {
    "scrolled": true
   },
   "outputs": [],
   "source": [
    "sf.camera = cam"
   ]
  },
  {
   "cell_type": "code",
   "execution_count": 149,
   "id": "207bc46f",
   "metadata": {
    "scrolled": true
   },
   "outputs": [],
   "source": [
    "dir_light = Light(\"DirectionalLight\")\n",
    "amb_light = Light(\"AmbientLight\")\n",
    "\n",
    "dir_light.set_position(3*np.ones((3, 24)))"
   ]
  },
  {
   "cell_type": "code",
   "execution_count": 150,
   "id": "644cc65e",
   "metadata": {
    "scrolled": true
   },
   "outputs": [
    {
     "data": {
      "text/plain": [
       "{'type': 'DirectionalLight',\n",
       " 'color': 16777215,\n",
       " 'intensity': [5],\n",
       " 'position': {'x': [3.0,\n",
       "   3.0,\n",
       "   3.0,\n",
       "   3.0,\n",
       "   3.0,\n",
       "   3.0,\n",
       "   3.0,\n",
       "   3.0,\n",
       "   3.0,\n",
       "   3.0,\n",
       "   3.0,\n",
       "   3.0,\n",
       "   3.0,\n",
       "   3.0,\n",
       "   3.0,\n",
       "   3.0,\n",
       "   3.0,\n",
       "   3.0,\n",
       "   3.0,\n",
       "   3.0,\n",
       "   3.0,\n",
       "   3.0,\n",
       "   3.0,\n",
       "   3.0],\n",
       "  'y': [3.0,\n",
       "   3.0,\n",
       "   3.0,\n",
       "   3.0,\n",
       "   3.0,\n",
       "   3.0,\n",
       "   3.0,\n",
       "   3.0,\n",
       "   3.0,\n",
       "   3.0,\n",
       "   3.0,\n",
       "   3.0,\n",
       "   3.0,\n",
       "   3.0,\n",
       "   3.0,\n",
       "   3.0,\n",
       "   3.0,\n",
       "   3.0,\n",
       "   3.0,\n",
       "   3.0,\n",
       "   3.0,\n",
       "   3.0,\n",
       "   3.0,\n",
       "   3.0],\n",
       "  'z': [3.0,\n",
       "   3.0,\n",
       "   3.0,\n",
       "   3.0,\n",
       "   3.0,\n",
       "   3.0,\n",
       "   3.0,\n",
       "   3.0,\n",
       "   3.0,\n",
       "   3.0,\n",
       "   3.0,\n",
       "   3.0,\n",
       "   3.0,\n",
       "   3.0,\n",
       "   3.0,\n",
       "   3.0,\n",
       "   3.0,\n",
       "   3.0,\n",
       "   3.0,\n",
       "   3.0,\n",
       "   3.0,\n",
       "   3.0,\n",
       "   3.0,\n",
       "   3.0]},\n",
       " 'visible': [1]}"
      ]
     },
     "execution_count": 150,
     "metadata": {},
     "output_type": "execute_result"
    }
   ],
   "source": [
    "dir_light.to_dict()"
   ]
  },
  {
   "cell_type": "code",
   "execution_count": 151,
   "id": "99693762",
   "metadata": {
    "scrolled": true
   },
   "outputs": [
    {
     "data": {
      "text/plain": [
       "{'type': 'AmbientLight',\n",
       " 'color': 16777215,\n",
       " 'intensity': [5],\n",
       " 'position': {'x': [0.0], 'y': [0.0], 'z': [0.0]},\n",
       " 'visible': [1]}"
      ]
     },
     "execution_count": 151,
     "metadata": {},
     "output_type": "execute_result"
    }
   ],
   "source": [
    "amb_light.to_dict()"
   ]
  },
  {
   "cell_type": "code",
   "execution_count": 152,
   "id": "8162bd28",
   "metadata": {},
   "outputs": [
    {
     "data": {
      "text/plain": [
       "24"
      ]
     },
     "execution_count": 152,
     "metadata": {},
     "output_type": "execute_result"
    }
   ],
   "source": [
    "dir_light.num_stimuli"
   ]
  },
  {
   "cell_type": "code",
   "execution_count": 153,
   "id": "92ee3b0e",
   "metadata": {},
   "outputs": [
    {
     "data": {
      "text/plain": [
       "1"
      ]
     },
     "execution_count": 153,
     "metadata": {},
     "output_type": "execute_result"
    }
   ],
   "source": [
    "amb_light.num_stimuli"
   ]
  },
  {
   "cell_type": "code",
   "execution_count": 154,
   "id": "656a1fa6",
   "metadata": {
    "scrolled": true
   },
   "outputs": [],
   "source": [
    "sf.dir_light = dir_light\n",
    "sf.amb_light = amb_light"
   ]
  },
  {
   "cell_type": "code",
   "execution_count": 157,
   "id": "b8181481",
   "metadata": {
    "scrolled": true
   },
   "outputs": [],
   "source": [
    "obj0 = Object(\"/mkturkfiles/assets/objaverse_final/fish/10219fa96ec643359b946924a6e3f59a.glb\")\n",
    "obj1 = Object(\"/mkturkfiles/assets/objaverse_final/fish/10219fa96ec643359b946924a6e3f59a.glb\")\n",
    "obj2 = Object(\"/mkturkfiles/assets/objaverse_final/fish/10219fa96ec643359b946924a6e3f59a.glb\")\n",
    "\n",
    "obj0.set_size(np.ones(24))\n",
    "obj0.set_position(2*np.ones((3, 24)))\n",
    "obj0.set_rotation(3*np.ones((3, 24)))\n",
    "obj0.set_visible(np.ones(24, dtype=\"int\"))\n",
    "obj0.set_target(np.ones(24, dtype=\"int\"))"
   ]
  },
  {
   "cell_type": "code",
   "execution_count": 158,
   "id": "c5efaddf",
   "metadata": {
    "scrolled": true
   },
   "outputs": [
    {
     "data": {
      "text/plain": [
       "{'meshpath': '/mkturkfiles/assets/objaverse_final/fish/10219fa96ec643359b946924a6e3f59a.glb',\n",
       " 'objectdoc': None,\n",
       " 'texture': True,\n",
       " 'material': {'type': 'MeshPhysicalMaterial',\n",
       "  'color': 8355711,\n",
       "  'metalness': 0.25,\n",
       "  'roughness': 0.65,\n",
       "  'reflectivity': 0.5,\n",
       "  'opacity': [1],\n",
       "  'transparent': False},\n",
       " 'sizeTHREEJS': [1.0,\n",
       "  1.0,\n",
       "  1.0,\n",
       "  1.0,\n",
       "  1.0,\n",
       "  1.0,\n",
       "  1.0,\n",
       "  1.0,\n",
       "  1.0,\n",
       "  1.0,\n",
       "  1.0,\n",
       "  1.0,\n",
       "  1.0,\n",
       "  1.0,\n",
       "  1.0,\n",
       "  1.0,\n",
       "  1.0,\n",
       "  1.0,\n",
       "  1.0,\n",
       "  1.0,\n",
       "  1.0,\n",
       "  1.0,\n",
       "  1.0,\n",
       "  1.0],\n",
       " 'positionTHREEJS': {'x': [2.0,\n",
       "   2.0,\n",
       "   2.0,\n",
       "   2.0,\n",
       "   2.0,\n",
       "   2.0,\n",
       "   2.0,\n",
       "   2.0,\n",
       "   2.0,\n",
       "   2.0,\n",
       "   2.0,\n",
       "   2.0,\n",
       "   2.0,\n",
       "   2.0,\n",
       "   2.0,\n",
       "   2.0,\n",
       "   2.0,\n",
       "   2.0,\n",
       "   2.0,\n",
       "   2.0,\n",
       "   2.0,\n",
       "   2.0,\n",
       "   2.0,\n",
       "   2.0],\n",
       "  'y': [2.0,\n",
       "   2.0,\n",
       "   2.0,\n",
       "   2.0,\n",
       "   2.0,\n",
       "   2.0,\n",
       "   2.0,\n",
       "   2.0,\n",
       "   2.0,\n",
       "   2.0,\n",
       "   2.0,\n",
       "   2.0,\n",
       "   2.0,\n",
       "   2.0,\n",
       "   2.0,\n",
       "   2.0,\n",
       "   2.0,\n",
       "   2.0,\n",
       "   2.0,\n",
       "   2.0,\n",
       "   2.0,\n",
       "   2.0,\n",
       "   2.0,\n",
       "   2.0],\n",
       "  'z': [2.0,\n",
       "   2.0,\n",
       "   2.0,\n",
       "   2.0,\n",
       "   2.0,\n",
       "   2.0,\n",
       "   2.0,\n",
       "   2.0,\n",
       "   2.0,\n",
       "   2.0,\n",
       "   2.0,\n",
       "   2.0,\n",
       "   2.0,\n",
       "   2.0,\n",
       "   2.0,\n",
       "   2.0,\n",
       "   2.0,\n",
       "   2.0,\n",
       "   2.0,\n",
       "   2.0,\n",
       "   2.0,\n",
       "   2.0,\n",
       "   2.0,\n",
       "   2.0]},\n",
       " 'rotationDegrees': {'x': [3.0,\n",
       "   3.0,\n",
       "   3.0,\n",
       "   3.0,\n",
       "   3.0,\n",
       "   3.0,\n",
       "   3.0,\n",
       "   3.0,\n",
       "   3.0,\n",
       "   3.0,\n",
       "   3.0,\n",
       "   3.0,\n",
       "   3.0,\n",
       "   3.0,\n",
       "   3.0,\n",
       "   3.0,\n",
       "   3.0,\n",
       "   3.0,\n",
       "   3.0,\n",
       "   3.0,\n",
       "   3.0,\n",
       "   3.0,\n",
       "   3.0,\n",
       "   3.0],\n",
       "  'y': [3.0,\n",
       "   3.0,\n",
       "   3.0,\n",
       "   3.0,\n",
       "   3.0,\n",
       "   3.0,\n",
       "   3.0,\n",
       "   3.0,\n",
       "   3.0,\n",
       "   3.0,\n",
       "   3.0,\n",
       "   3.0,\n",
       "   3.0,\n",
       "   3.0,\n",
       "   3.0,\n",
       "   3.0,\n",
       "   3.0,\n",
       "   3.0,\n",
       "   3.0,\n",
       "   3.0,\n",
       "   3.0,\n",
       "   3.0,\n",
       "   3.0,\n",
       "   3.0],\n",
       "  'z': [3.0,\n",
       "   3.0,\n",
       "   3.0,\n",
       "   3.0,\n",
       "   3.0,\n",
       "   3.0,\n",
       "   3.0,\n",
       "   3.0,\n",
       "   3.0,\n",
       "   3.0,\n",
       "   3.0,\n",
       "   3.0,\n",
       "   3.0,\n",
       "   3.0,\n",
       "   3.0,\n",
       "   3.0,\n",
       "   3.0,\n",
       "   3.0,\n",
       "   3.0,\n",
       "   3.0,\n",
       "   3.0,\n",
       "   3.0,\n",
       "   3.0,\n",
       "   3.0]},\n",
       " 'visible': [1,\n",
       "  1,\n",
       "  1,\n",
       "  1,\n",
       "  1,\n",
       "  1,\n",
       "  1,\n",
       "  1,\n",
       "  1,\n",
       "  1,\n",
       "  1,\n",
       "  1,\n",
       "  1,\n",
       "  1,\n",
       "  1,\n",
       "  1,\n",
       "  1,\n",
       "  1,\n",
       "  1,\n",
       "  1,\n",
       "  1,\n",
       "  1,\n",
       "  1,\n",
       "  1],\n",
       " 'target': [1,\n",
       "  1,\n",
       "  1,\n",
       "  1,\n",
       "  1,\n",
       "  1,\n",
       "  1,\n",
       "  1,\n",
       "  1,\n",
       "  1,\n",
       "  1,\n",
       "  1,\n",
       "  1,\n",
       "  1,\n",
       "  1,\n",
       "  1,\n",
       "  1,\n",
       "  1,\n",
       "  1,\n",
       "  1,\n",
       "  1,\n",
       "  1,\n",
       "  1,\n",
       "  1]}"
      ]
     },
     "execution_count": 158,
     "metadata": {},
     "output_type": "execute_result"
    }
   ],
   "source": [
    "obj0.to_dict()"
   ]
  },
  {
   "cell_type": "code",
   "execution_count": 159,
   "id": "6c960d60",
   "metadata": {
    "scrolled": true
   },
   "outputs": [
    {
     "data": {
      "text/plain": [
       "{'meshpath': '/mkturkfiles/assets/objaverse_final/fish/10219fa96ec643359b946924a6e3f59a.glb',\n",
       " 'objectdoc': None,\n",
       " 'texture': True,\n",
       " 'material': {'type': 'MeshPhysicalMaterial',\n",
       "  'color': 8355711,\n",
       "  'metalness': 0.25,\n",
       "  'roughness': 0.65,\n",
       "  'reflectivity': 0.5,\n",
       "  'opacity': [1],\n",
       "  'transparent': False},\n",
       " 'sizeTHREEJS': [0.0],\n",
       " 'positionTHREEJS': {'x': [0.0], 'y': [0.0], 'z': [0.0]},\n",
       " 'rotationDegrees': {'x': [0.0], 'y': [0.0], 'z': [0.0]},\n",
       " 'visible': [0],\n",
       " 'target': [0]}"
      ]
     },
     "execution_count": 159,
     "metadata": {},
     "output_type": "execute_result"
    }
   ],
   "source": [
    "obj1.to_dict()"
   ]
  },
  {
   "cell_type": "code",
   "execution_count": 160,
   "id": "86a95eaa",
   "metadata": {
    "scrolled": true
   },
   "outputs": [
    {
     "data": {
      "text/plain": [
       "{'meshpath': '/mkturkfiles/assets/objaverse_final/fish/10219fa96ec643359b946924a6e3f59a.glb',\n",
       " 'objectdoc': None,\n",
       " 'texture': True,\n",
       " 'material': {'type': 'MeshPhysicalMaterial',\n",
       "  'color': 8355711,\n",
       "  'metalness': 0.25,\n",
       "  'roughness': 0.65,\n",
       "  'reflectivity': 0.5,\n",
       "  'opacity': [1],\n",
       "  'transparent': False},\n",
       " 'sizeTHREEJS': [0.0],\n",
       " 'positionTHREEJS': {'x': [0.0], 'y': [0.0], 'z': [0.0]},\n",
       " 'rotationDegrees': {'x': [0.0], 'y': [0.0], 'z': [0.0]},\n",
       " 'visible': [0],\n",
       " 'target': [0]}"
      ]
     },
     "execution_count": 160,
     "metadata": {},
     "output_type": "execute_result"
    }
   ],
   "source": [
    "obj2.to_dict()"
   ]
  },
  {
   "cell_type": "code",
   "execution_count": 161,
   "id": "43e92818",
   "metadata": {},
   "outputs": [
    {
     "data": {
      "text/plain": [
       "24"
      ]
     },
     "execution_count": 161,
     "metadata": {},
     "output_type": "execute_result"
    }
   ],
   "source": [
    "obj0.num_stimuli"
   ]
  },
  {
   "cell_type": "code",
   "execution_count": 162,
   "id": "a9fba410",
   "metadata": {},
   "outputs": [
    {
     "data": {
      "text/plain": [
       "1"
      ]
     },
     "execution_count": 162,
     "metadata": {},
     "output_type": "execute_result"
    }
   ],
   "source": [
    "obj1.num_stimuli"
   ]
  },
  {
   "cell_type": "code",
   "execution_count": 163,
   "id": "5c8789bd",
   "metadata": {},
   "outputs": [
    {
     "data": {
      "text/plain": [
       "1"
      ]
     },
     "execution_count": 163,
     "metadata": {},
     "output_type": "execute_result"
    }
   ],
   "source": [
    "obj2.num_stimuli"
   ]
  },
  {
   "cell_type": "code",
   "execution_count": 164,
   "id": "3ba5d4cc",
   "metadata": {
    "scrolled": true
   },
   "outputs": [],
   "source": [
    "sf.obj0 = obj0\n",
    "sf.obj1 = obj1\n",
    "sf.obj2 = obj2"
   ]
  },
  {
   "cell_type": "code",
   "execution_count": 165,
   "id": "99b20ccd",
   "metadata": {
    "scrolled": true
   },
   "outputs": [],
   "source": [
    "img = Image()"
   ]
  },
  {
   "cell_type": "code",
   "execution_count": 166,
   "id": "f61e479f",
   "metadata": {
    "scrolled": true
   },
   "outputs": [
    {
     "data": {
      "text/plain": [
       "{'imagebag': '/mkturkfiles/assets/polyhaven/',\n",
       " 'imageidx': [5],\n",
       " 'visible': [1],\n",
       " 'sizeTHREEJS': [10]}"
      ]
     },
     "execution_count": 166,
     "metadata": {},
     "output_type": "execute_result"
    }
   ],
   "source": [
    "img.to_dict()"
   ]
  },
  {
   "cell_type": "code",
   "execution_count": 167,
   "id": "d75c1906",
   "metadata": {
    "scrolled": true
   },
   "outputs": [],
   "source": [
    "sf.img = img"
   ]
  },
  {
   "cell_type": "code",
   "execution_count": 168,
   "id": "6fa40cc0",
   "metadata": {
    "scrolled": true
   },
   "outputs": [],
   "source": [
    "obj_filters = Filters()\n",
    "img_filters = Filters()"
   ]
  },
  {
   "cell_type": "code",
   "execution_count": 169,
   "id": "1845edb5",
   "metadata": {
    "scrolled": true
   },
   "outputs": [
    {
     "data": {
      "text/plain": [
       "{'blur': [],\n",
       " 'brightness': [],\n",
       " 'contrast': [],\n",
       " 'grayscale': [],\n",
       " 'huerotate': [],\n",
       " 'invert': [],\n",
       " 'opacity': [],\n",
       " 'saturate': [],\n",
       " 'sepia': []}"
      ]
     },
     "execution_count": 169,
     "metadata": {},
     "output_type": "execute_result"
    }
   ],
   "source": [
    "obj_filters.to_dict()"
   ]
  },
  {
   "cell_type": "code",
   "execution_count": 170,
   "id": "3c7a49d4",
   "metadata": {
    "scrolled": true
   },
   "outputs": [
    {
     "data": {
      "text/plain": [
       "{'blur': [],\n",
       " 'brightness': [],\n",
       " 'contrast': [],\n",
       " 'grayscale': [],\n",
       " 'huerotate': [],\n",
       " 'invert': [],\n",
       " 'opacity': [],\n",
       " 'saturate': [],\n",
       " 'sepia': []}"
      ]
     },
     "execution_count": 170,
     "metadata": {},
     "output_type": "execute_result"
    }
   ],
   "source": [
    "img_filters.to_dict()"
   ]
  },
  {
   "cell_type": "code",
   "execution_count": 171,
   "id": "64342a08",
   "metadata": {
    "scrolled": true
   },
   "outputs": [],
   "source": [
    "sf.obj_filters = obj_filters\n",
    "sf.img_filters = img_filters"
   ]
  },
  {
   "cell_type": "code",
   "execution_count": 172,
   "id": "2b5c334f",
   "metadata": {
    "scrolled": true
   },
   "outputs": [],
   "source": [
    "sf.to_json(\"test_scenefile.json\")"
   ]
  },
  {
   "cell_type": "code",
   "execution_count": 173,
   "id": "bc4e5b00",
   "metadata": {
    "scrolled": true
   },
   "outputs": [],
   "source": [
    "sf2 = Scenefile.from_json(\"test_scenefile.json\")"
   ]
  },
  {
   "cell_type": "code",
   "execution_count": 174,
   "id": "b01b55df",
   "metadata": {
    "scrolled": true
   },
   "outputs": [
    {
     "data": {
      "text/plain": [
       "True"
      ]
     },
     "execution_count": 174,
     "metadata": {},
     "output_type": "execute_result"
    }
   ],
   "source": [
    "sf.camera.to_dict() == sf2.camera.to_dict()"
   ]
  },
  {
   "cell_type": "code",
   "execution_count": 175,
   "id": "7bd93e71",
   "metadata": {
    "scrolled": true
   },
   "outputs": [
    {
     "data": {
      "text/plain": [
       "True"
      ]
     },
     "execution_count": 175,
     "metadata": {},
     "output_type": "execute_result"
    }
   ],
   "source": [
    "sf.dir_light.to_dict() == sf2.dir_light.to_dict()"
   ]
  },
  {
   "cell_type": "code",
   "execution_count": 176,
   "id": "3292c9a7",
   "metadata": {
    "scrolled": true
   },
   "outputs": [
    {
     "data": {
      "text/plain": [
       "True"
      ]
     },
     "execution_count": 176,
     "metadata": {},
     "output_type": "execute_result"
    }
   ],
   "source": [
    "sf.amb_light.to_dict() == sf2.amb_light.to_dict()"
   ]
  },
  {
   "cell_type": "code",
   "execution_count": 177,
   "id": "11cc26e7",
   "metadata": {
    "scrolled": true
   },
   "outputs": [
    {
     "data": {
      "text/plain": [
       "True"
      ]
     },
     "execution_count": 177,
     "metadata": {},
     "output_type": "execute_result"
    }
   ],
   "source": [
    "sf.obj0.to_dict() == sf2.obj0.to_dict()"
   ]
  },
  {
   "cell_type": "code",
   "execution_count": 178,
   "id": "eba9c374",
   "metadata": {
    "scrolled": true
   },
   "outputs": [
    {
     "data": {
      "text/plain": [
       "True"
      ]
     },
     "execution_count": 178,
     "metadata": {},
     "output_type": "execute_result"
    }
   ],
   "source": [
    "sf.obj1.to_dict() == sf2.obj1.to_dict()"
   ]
  },
  {
   "cell_type": "code",
   "execution_count": 179,
   "id": "f671ea16",
   "metadata": {
    "scrolled": true
   },
   "outputs": [
    {
     "data": {
      "text/plain": [
       "True"
      ]
     },
     "execution_count": 179,
     "metadata": {},
     "output_type": "execute_result"
    }
   ],
   "source": [
    "sf.obj2.to_dict() == sf2.obj2.to_dict()"
   ]
  },
  {
   "cell_type": "code",
   "execution_count": 180,
   "id": "dc1e0f6d",
   "metadata": {
    "scrolled": true
   },
   "outputs": [
    {
     "data": {
      "text/plain": [
       "True"
      ]
     },
     "execution_count": 180,
     "metadata": {},
     "output_type": "execute_result"
    }
   ],
   "source": [
    "sf.img.to_dict() == sf2.img.to_dict()"
   ]
  },
  {
   "cell_type": "code",
   "execution_count": 181,
   "id": "ad3f289a",
   "metadata": {
    "scrolled": true
   },
   "outputs": [
    {
     "data": {
      "text/plain": [
       "True"
      ]
     },
     "execution_count": 181,
     "metadata": {},
     "output_type": "execute_result"
    }
   ],
   "source": [
    "sf.obj_filters.to_dict() == sf2.obj_filters.to_dict()"
   ]
  },
  {
   "cell_type": "code",
   "execution_count": 182,
   "id": "c0375a39",
   "metadata": {
    "scrolled": true
   },
   "outputs": [
    {
     "data": {
      "text/plain": [
       "True"
      ]
     },
     "execution_count": 182,
     "metadata": {},
     "output_type": "execute_result"
    }
   ],
   "source": [
    "sf.img_filters.to_dict() == sf2.img_filters.to_dict()"
   ]
  },
  {
   "cell_type": "code",
   "execution_count": null,
   "id": "25bf5790",
   "metadata": {
    "scrolled": true
   },
   "outputs": [],
   "source": []
  }
 ],
 "metadata": {
  "kernelspec": {
   "display_name": "Python 3 (ipykernel)",
   "language": "python",
   "name": "python3"
  },
  "language_info": {
   "codemirror_mode": {
    "name": "ipython",
    "version": 3
   },
   "file_extension": ".py",
   "mimetype": "text/x-python",
   "name": "python",
   "nbconvert_exporter": "python",
   "pygments_lexer": "ipython3",
   "version": "3.11.5"
  }
 },
 "nbformat": 4,
 "nbformat_minor": 5
}
